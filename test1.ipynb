{
 "cells": [
  {
   "cell_type": "code",
   "execution_count": null,
   "metadata": {},
   "outputs": [],
   "source": []
  },
  {
   "cell_type": "code",
   "execution_count": null,
   "metadata": {},
   "outputs": [],
   "source": []
  },
  {
   "cell_type": "code",
   "execution_count": 293,
   "metadata": {},
   "outputs": [
    {
     "name": "stdout",
     "output_type": "stream",
     "text": [
      "Libraries imported.\n"
     ]
    },
    {
     "name": "stderr",
     "output_type": "stream",
     "text": [
      "usage: conda-script.py [-h] [-V] command ...\n",
      "conda-script.py: error: unrecognized arguments: # uncomment this line if you haven't completed the Foursquare API lab\n"
     ]
    }
   ],
   "source": [
    "# Import libraries\n",
    "import numpy as np # library to handle data in a vectorized manner\n",
    "\n",
    "import pandas as pd # library for data analsysis\n",
    "pd.set_option('display.max_columns', None)\n",
    "pd.set_option('display.max_rows', None)\n",
    "\n",
    "import json # library to handle JSON files\n",
    "\n",
    "!conda install -c conda-forge geopy --yes # uncomment this line if you haven't completed the Foursquare API lab\n",
    "from geopy.geocoders import Nominatim # convert an address into latitude and longitude values\n",
    "\n",
    "import requests # library to handle requests\n",
    "from pandas.io.json import json_normalize # tranform JSON file into a pandas dataframe\n",
    "\n",
    "# Matplotlib and associated plotting modules\n",
    "import matplotlib.cm as cm\n",
    "import matplotlib.colors as colors\n",
    "\n",
    "# import k-means from clustering stage\n",
    "from sklearn.cluster import KMeans\n",
    "\n",
    "#!conda install -c conda-forge folium=0.5.0 --yes # uncomment this line if you haven't completed the Foursquare API lab\n",
    "import folium # map rendering library\n",
    "\n",
    "print('Libraries imported.')"
   ]
  },
  {
   "cell_type": "code",
   "execution_count": 294,
   "metadata": {},
   "outputs": [
    {
     "name": "stdout",
     "output_type": "stream",
     "text": [
      "shape of data1 is: (90543, 28)\n"
     ]
    },
    {
     "data": {
      "text/html": [
       "<div>\n",
       "<style scoped>\n",
       "    .dataframe tbody tr th:only-of-type {\n",
       "        vertical-align: middle;\n",
       "    }\n",
       "\n",
       "    .dataframe tbody tr th {\n",
       "        vertical-align: top;\n",
       "    }\n",
       "\n",
       "    .dataframe thead th {\n",
       "        text-align: right;\n",
       "    }\n",
       "</style>\n",
       "<table border=\"1\" class=\"dataframe\">\n",
       "  <thead>\n",
       "    <tr style=\"text-align: right;\">\n",
       "      <th></th>\n",
       "      <th>X</th>\n",
       "      <th>Y</th>\n",
       "      <th>OBJECTID</th>\n",
       "      <th>ENTRY_ID</th>\n",
       "      <th>ADDR_HN</th>\n",
       "      <th>ADDR_PD</th>\n",
       "      <th>ADDR_PT</th>\n",
       "      <th>ADDR_SN</th>\n",
       "      <th>ADDR_ST</th>\n",
       "      <th>ADDR_SD</th>\n",
       "      <th>FULL_ADDRESS</th>\n",
       "      <th>SUB_HN</th>\n",
       "      <th>APT_UNIT</th>\n",
       "      <th>RES_TYPE</th>\n",
       "      <th>COMMUNITY</th>\n",
       "      <th>ZIPCODE</th>\n",
       "      <th>PO_NAME</th>\n",
       "      <th>STATE</th>\n",
       "      <th>COUNTY_NAME</th>\n",
       "      <th>FIPS</th>\n",
       "      <th>STATE_ID</th>\n",
       "      <th>COORSYS</th>\n",
       "      <th>POINT_X</th>\n",
       "      <th>POINT_Y</th>\n",
       "      <th>USNG</th>\n",
       "      <th>DDLat</th>\n",
       "      <th>DDLon</th>\n",
       "      <th>PROCESS_ID</th>\n",
       "    </tr>\n",
       "  </thead>\n",
       "  <tbody>\n",
       "    <tr>\n",
       "      <th>0</th>\n",
       "      <td>1.514961e+06</td>\n",
       "      <td>616911.476343</td>\n",
       "      <td>453431</td>\n",
       "      <td>CABARRUSADDRESSPOINTS2</td>\n",
       "      <td>1602</td>\n",
       "      <td>NaN</td>\n",
       "      <td>NaN</td>\n",
       "      <td>CARALEA VALLEY</td>\n",
       "      <td>DRIVE</td>\n",
       "      <td>NORTHWEST</td>\n",
       "      <td>1602 CARALEA VALLEY DRIVE NORTHWEST</td>\n",
       "      <td>NaN</td>\n",
       "      <td></td>\n",
       "      <td>NaN</td>\n",
       "      <td>NaN</td>\n",
       "      <td>28027</td>\n",
       "      <td>NaN</td>\n",
       "      <td>NC</td>\n",
       "      <td>CABARRUS</td>\n",
       "      <td>25</td>\n",
       "      <td>37</td>\n",
       "      <td>2264</td>\n",
       "      <td>1.514961e+06</td>\n",
       "      <td>616911.476343</td>\n",
       "      <td>17S NV 33728 21254</td>\n",
       "      <td>35.43415N</td>\n",
       "      <td>080.62841W</td>\n",
       "      <td>A</td>\n",
       "    </tr>\n",
       "    <tr>\n",
       "      <th>1</th>\n",
       "      <td>1.528647e+06</td>\n",
       "      <td>605532.000415</td>\n",
       "      <td>453432</td>\n",
       "      <td>CABARRUSADDRESSPOINTS4</td>\n",
       "      <td>142</td>\n",
       "      <td>NaN</td>\n",
       "      <td>NaN</td>\n",
       "      <td>CHESTNUT</td>\n",
       "      <td>DRIVE</td>\n",
       "      <td>SOUTHWEST</td>\n",
       "      <td>142 CHESTNUT DRIVE SOUTHWEST</td>\n",
       "      <td>NaN</td>\n",
       "      <td></td>\n",
       "      <td>NaN</td>\n",
       "      <td>NaN</td>\n",
       "      <td>28025</td>\n",
       "      <td>NaN</td>\n",
       "      <td>NC</td>\n",
       "      <td>CABARRUS</td>\n",
       "      <td>25</td>\n",
       "      <td>37</td>\n",
       "      <td>2264</td>\n",
       "      <td>1.528647e+06</td>\n",
       "      <td>605532.000415</td>\n",
       "      <td>17S NV 37968 17871</td>\n",
       "      <td>35.40350N</td>\n",
       "      <td>080.58186W</td>\n",
       "      <td>A</td>\n",
       "    </tr>\n",
       "    <tr>\n",
       "      <th>2</th>\n",
       "      <td>1.533665e+06</td>\n",
       "      <td>600705.697403</td>\n",
       "      <td>453433</td>\n",
       "      <td>CABARRUSADDRESSPOINTS5</td>\n",
       "      <td>726</td>\n",
       "      <td>NaN</td>\n",
       "      <td>NaN</td>\n",
       "      <td>SPRING</td>\n",
       "      <td>ST</td>\n",
       "      <td>SOUTHWEST</td>\n",
       "      <td>726 SPRING STREET SOUTHWEST</td>\n",
       "      <td>NaN</td>\n",
       "      <td></td>\n",
       "      <td>NaN</td>\n",
       "      <td>NaN</td>\n",
       "      <td>28025</td>\n",
       "      <td>NaN</td>\n",
       "      <td>NC</td>\n",
       "      <td>CABARRUS</td>\n",
       "      <td>25</td>\n",
       "      <td>37</td>\n",
       "      <td>2264</td>\n",
       "      <td>1.533665e+06</td>\n",
       "      <td>600705.697403</td>\n",
       "      <td>17S NV 39526 16431</td>\n",
       "      <td>35.39046N</td>\n",
       "      <td>080.56477W</td>\n",
       "      <td>A</td>\n",
       "    </tr>\n",
       "    <tr>\n",
       "      <th>3</th>\n",
       "      <td>1.538479e+06</td>\n",
       "      <td>607313.361025</td>\n",
       "      <td>453434</td>\n",
       "      <td>CABARRUSADDRESSPOINTS6</td>\n",
       "      <td>540</td>\n",
       "      <td>NaN</td>\n",
       "      <td>NaN</td>\n",
       "      <td>TRIPOLIS</td>\n",
       "      <td>ST</td>\n",
       "      <td>SOUTHEAST</td>\n",
       "      <td>540 TRIPOLIS STREET SOUTHEAST</td>\n",
       "      <td>NaN</td>\n",
       "      <td></td>\n",
       "      <td>NaN</td>\n",
       "      <td>NaN</td>\n",
       "      <td>28025</td>\n",
       "      <td>NaN</td>\n",
       "      <td>NC</td>\n",
       "      <td>CABARRUS</td>\n",
       "      <td>25</td>\n",
       "      <td>37</td>\n",
       "      <td>2264</td>\n",
       "      <td>1.538479e+06</td>\n",
       "      <td>607313.361025</td>\n",
       "      <td>17S NV 40952 18474</td>\n",
       "      <td>35.40882N</td>\n",
       "      <td>080.54896W</td>\n",
       "      <td>A</td>\n",
       "    </tr>\n",
       "    <tr>\n",
       "      <th>4</th>\n",
       "      <td>1.486521e+06</td>\n",
       "      <td>608832.312383</td>\n",
       "      <td>453435</td>\n",
       "      <td>CABARRUSADDRESSPOINTS7</td>\n",
       "      <td>295</td>\n",
       "      <td>NaN</td>\n",
       "      <td>NaN</td>\n",
       "      <td>BLACKBERRY</td>\n",
       "      <td>TRAIL</td>\n",
       "      <td>NaN</td>\n",
       "      <td>295 BLACKBERRY TRAIL</td>\n",
       "      <td>NaN</td>\n",
       "      <td></td>\n",
       "      <td>NaN</td>\n",
       "      <td>NaN</td>\n",
       "      <td>28027</td>\n",
       "      <td>NaN</td>\n",
       "      <td>NC</td>\n",
       "      <td>CABARRUS</td>\n",
       "      <td>25</td>\n",
       "      <td>37</td>\n",
       "      <td>2264</td>\n",
       "      <td>1.486521e+06</td>\n",
       "      <td>608832.312384</td>\n",
       "      <td>17S NV 25113 18618</td>\n",
       "      <td>35.41064N</td>\n",
       "      <td>080.72340W</td>\n",
       "      <td>A</td>\n",
       "    </tr>\n",
       "  </tbody>\n",
       "</table>\n",
       "</div>"
      ],
      "text/plain": [
       "              X              Y  OBJECTID                ENTRY_ID  ADDR_HN  \\\n",
       "0  1.514961e+06  616911.476343    453431  CABARRUSADDRESSPOINTS2     1602   \n",
       "1  1.528647e+06  605532.000415    453432  CABARRUSADDRESSPOINTS4      142   \n",
       "2  1.533665e+06  600705.697403    453433  CABARRUSADDRESSPOINTS5      726   \n",
       "3  1.538479e+06  607313.361025    453434  CABARRUSADDRESSPOINTS6      540   \n",
       "4  1.486521e+06  608832.312383    453435  CABARRUSADDRESSPOINTS7      295   \n",
       "\n",
       "  ADDR_PD ADDR_PT         ADDR_SN ADDR_ST    ADDR_SD  \\\n",
       "0     NaN     NaN  CARALEA VALLEY   DRIVE  NORTHWEST   \n",
       "1     NaN     NaN        CHESTNUT   DRIVE  SOUTHWEST   \n",
       "2     NaN     NaN          SPRING      ST  SOUTHWEST   \n",
       "3     NaN     NaN        TRIPOLIS      ST  SOUTHEAST   \n",
       "4     NaN     NaN      BLACKBERRY   TRAIL        NaN   \n",
       "\n",
       "                          FULL_ADDRESS  SUB_HN APT_UNIT  RES_TYPE  COMMUNITY  \\\n",
       "0  1602 CARALEA VALLEY DRIVE NORTHWEST     NaN                NaN        NaN   \n",
       "1         142 CHESTNUT DRIVE SOUTHWEST     NaN                NaN        NaN   \n",
       "2          726 SPRING STREET SOUTHWEST     NaN                NaN        NaN   \n",
       "3        540 TRIPOLIS STREET SOUTHEAST     NaN                NaN        NaN   \n",
       "4                295 BLACKBERRY TRAIL      NaN                NaN        NaN   \n",
       "\n",
       "   ZIPCODE  PO_NAME STATE COUNTY_NAME  FIPS  STATE_ID  COORSYS       POINT_X  \\\n",
       "0    28027      NaN    NC    CABARRUS    25        37     2264  1.514961e+06   \n",
       "1    28025      NaN    NC    CABARRUS    25        37     2264  1.528647e+06   \n",
       "2    28025      NaN    NC    CABARRUS    25        37     2264  1.533665e+06   \n",
       "3    28025      NaN    NC    CABARRUS    25        37     2264  1.538479e+06   \n",
       "4    28027      NaN    NC    CABARRUS    25        37     2264  1.486521e+06   \n",
       "\n",
       "         POINT_Y                USNG      DDLat       DDLon PROCESS_ID  \n",
       "0  616911.476343  17S NV 33728 21254  35.43415N  080.62841W          A  \n",
       "1  605532.000415  17S NV 37968 17871  35.40350N  080.58186W          A  \n",
       "2  600705.697403  17S NV 39526 16431  35.39046N  080.56477W          A  \n",
       "3  607313.361025  17S NV 40952 18474  35.40882N  080.54896W          A  \n",
       "4  608832.312384  17S NV 25113 18618  35.41064N  080.72340W          A  "
      ]
     },
     "execution_count": 294,
     "metadata": {},
     "output_type": "execute_result"
    }
   ],
   "source": [
    "# Downloaded NC_Master_Address_Dataset_-_2014_CAB.csv from\n",
    "# https://www.nconemap.gov/datasets/nc-master-address-dataset-2014/geoservice. \n",
    "# \n",
    "#data = pd.read_csv(\"NC_Master_Address_Dataset_-_2014_CAB.csv\", skipinitialspace=True, usecols = ['ADDR_SN','COUNTY_NAME', 'FULL_ADDRESS', 'ZIPCODE', 'DDLat', 'DDLon'], low_memory = False)\n",
    "#data = data[data['ZIPCODE']==28027]\n",
    "data1 = pd.read_csv(\"NC_Master_Address_Dataset_-_2014_CAB.csv\")\n",
    "print(\"shape of data1 is:\", data1.shape)\n",
    "data1.head()"
   ]
  },
  {
   "cell_type": "code",
   "execution_count": 295,
   "metadata": {},
   "outputs": [
    {
     "name": "stdout",
     "output_type": "stream",
     "text": [
      "Series([], Name: RES_TYPE, dtype: int64)\n"
     ]
    }
   ],
   "source": [
    "# Explore dataframe data1, checking unique vaule counts of column RES_TYPE.\n",
    "item_counts = data1['RES_TYPE'].value_counts(normalize=False)\n",
    "print(item_counts)"
   ]
  },
  {
   "cell_type": "code",
   "execution_count": 296,
   "metadata": {},
   "outputs": [
    {
     "data": {
      "text/plain": [
       "array([nan])"
      ]
     },
     "execution_count": 296,
     "metadata": {},
     "output_type": "execute_result"
    }
   ],
   "source": [
    "# Explore dataframe data1, checking unique vaules of column PO_NAME.\n",
    "data1.PO_NAME.unique()"
   ]
  },
  {
   "cell_type": "code",
   "execution_count": 297,
   "metadata": {},
   "outputs": [
    {
     "data": {
      "text/plain": [
       "array([28027, 28025, 28083, 28081, 28124, 28107, 28075, 28078, 28269,\n",
       "       28071, 28036, 28097, 28215, 28138, 28262, 28213, 28227],\n",
       "      dtype=int64)"
      ]
     },
     "execution_count": 297,
     "metadata": {},
     "output_type": "execute_result"
    }
   ],
   "source": [
    "# Explore dataframe data1, checking unique vaules of column ZIPCODE.\n",
    "data1.ZIPCODE.unique()\n"
   ]
  },
  {
   "cell_type": "code",
   "execution_count": 298,
   "metadata": {},
   "outputs": [
    {
     "name": "stdout",
     "output_type": "stream",
     "text": [
      "Unique zip codes in Cabarrus County, North Carolina are:  (17, 1)\n",
      "<class 'pandas.core.frame.DataFrame'>\n",
      "ZIPCODE    int64\n",
      "dtype: object\n"
     ]
    },
    {
     "data": {
      "text/html": [
       "<div>\n",
       "<style scoped>\n",
       "    .dataframe tbody tr th:only-of-type {\n",
       "        vertical-align: middle;\n",
       "    }\n",
       "\n",
       "    .dataframe tbody tr th {\n",
       "        vertical-align: top;\n",
       "    }\n",
       "\n",
       "    .dataframe thead th {\n",
       "        text-align: right;\n",
       "    }\n",
       "</style>\n",
       "<table border=\"1\" class=\"dataframe\">\n",
       "  <thead>\n",
       "    <tr style=\"text-align: right;\">\n",
       "      <th></th>\n",
       "      <th>ZIPCODE</th>\n",
       "    </tr>\n",
       "  </thead>\n",
       "  <tbody>\n",
       "    <tr>\n",
       "      <th>0</th>\n",
       "      <td>28027</td>\n",
       "    </tr>\n",
       "    <tr>\n",
       "      <th>1</th>\n",
       "      <td>28025</td>\n",
       "    </tr>\n",
       "    <tr>\n",
       "      <th>2</th>\n",
       "      <td>28083</td>\n",
       "    </tr>\n",
       "    <tr>\n",
       "      <th>3</th>\n",
       "      <td>28081</td>\n",
       "    </tr>\n",
       "    <tr>\n",
       "      <th>4</th>\n",
       "      <td>28124</td>\n",
       "    </tr>\n",
       "    <tr>\n",
       "      <th>5</th>\n",
       "      <td>28107</td>\n",
       "    </tr>\n",
       "    <tr>\n",
       "      <th>6</th>\n",
       "      <td>28075</td>\n",
       "    </tr>\n",
       "    <tr>\n",
       "      <th>7</th>\n",
       "      <td>28078</td>\n",
       "    </tr>\n",
       "    <tr>\n",
       "      <th>8</th>\n",
       "      <td>28269</td>\n",
       "    </tr>\n",
       "    <tr>\n",
       "      <th>9</th>\n",
       "      <td>28071</td>\n",
       "    </tr>\n",
       "    <tr>\n",
       "      <th>10</th>\n",
       "      <td>28036</td>\n",
       "    </tr>\n",
       "    <tr>\n",
       "      <th>11</th>\n",
       "      <td>28097</td>\n",
       "    </tr>\n",
       "    <tr>\n",
       "      <th>12</th>\n",
       "      <td>28215</td>\n",
       "    </tr>\n",
       "    <tr>\n",
       "      <th>13</th>\n",
       "      <td>28138</td>\n",
       "    </tr>\n",
       "    <tr>\n",
       "      <th>14</th>\n",
       "      <td>28262</td>\n",
       "    </tr>\n",
       "    <tr>\n",
       "      <th>15</th>\n",
       "      <td>28213</td>\n",
       "    </tr>\n",
       "    <tr>\n",
       "      <th>16</th>\n",
       "      <td>28227</td>\n",
       "    </tr>\n",
       "  </tbody>\n",
       "</table>\n",
       "</div>"
      ],
      "text/plain": [
       "    ZIPCODE\n",
       "0     28027\n",
       "1     28025\n",
       "2     28083\n",
       "3     28081\n",
       "4     28124\n",
       "5     28107\n",
       "6     28075\n",
       "7     28078\n",
       "8     28269\n",
       "9     28071\n",
       "10    28036\n",
       "11    28097\n",
       "12    28215\n",
       "13    28138\n",
       "14    28262\n",
       "15    28213\n",
       "16    28227"
      ]
     },
     "execution_count": 298,
     "metadata": {},
     "output_type": "execute_result"
    }
   ],
   "source": [
    "# Get all the unique values of ZIPCODE.\n",
    "# Change ZIPCODE unique values into a dataframe zip.\n",
    "postalcode = data1.ZIPCODE.unique()\n",
    "zipcode = pd.DataFrame(postalcode)\n",
    "zipcode.columns = ['ZIPCODE']\n",
    "print(\"Unique zip codes in Cabarrus County, North Carolina are: \", zipcode.shape)\n",
    "print(type(zipcode))\n",
    "print(zipcode.dtypes)\n",
    "zipcode"
   ]
  },
  {
   "cell_type": "code",
   "execution_count": 299,
   "metadata": {},
   "outputs": [
    {
     "data": {
      "text/plain": [
       "ZIPCODE    object\n",
       "dtype: object"
      ]
     },
     "execution_count": 299,
     "metadata": {},
     "output_type": "execute_result"
    }
   ],
   "source": [
    "# change ZIPCODE column to object\n",
    "zipcode.astype({'ZIPCODE': 'object'}).dtypes"
   ]
  },
  {
   "cell_type": "code",
   "execution_count": 300,
   "metadata": {},
   "outputs": [
    {
     "name": "stdout",
     "output_type": "stream",
     "text": [
      "Requirement already satisfied: pgeocode in c:\\users\\fuxia\\anaconda3\\lib\\site-packages (0.3.0)\n",
      "Requirement already satisfied: numpy in c:\\users\\fuxia\\anaconda3\\lib\\site-packages (from pgeocode) (1.18.5)\n",
      "Requirement already satisfied: pandas in c:\\users\\fuxia\\anaconda3\\lib\\site-packages (from pgeocode) (1.0.5)\n",
      "Requirement already satisfied: requests in c:\\users\\fuxia\\anaconda3\\lib\\site-packages (from pgeocode) (2.24.0)\n",
      "Requirement already satisfied: pytz>=2017.2 in c:\\users\\fuxia\\anaconda3\\lib\\site-packages (from pandas->pgeocode) (2020.1)\n",
      "Requirement already satisfied: python-dateutil>=2.6.1 in c:\\users\\fuxia\\anaconda3\\lib\\site-packages (from pandas->pgeocode) (2.8.1)\n",
      "Requirement already satisfied: certifi>=2017.4.17 in c:\\users\\fuxia\\anaconda3\\lib\\site-packages (from requests->pgeocode) (2020.6.20)\n",
      "Requirement already satisfied: urllib3!=1.25.0,!=1.25.1,<1.26,>=1.21.1 in c:\\users\\fuxia\\anaconda3\\lib\\site-packages (from requests->pgeocode) (1.25.9)\n",
      "Requirement already satisfied: idna<3,>=2.5 in c:\\users\\fuxia\\anaconda3\\lib\\site-packages (from requests->pgeocode) (2.10)\n",
      "Requirement already satisfied: chardet<4,>=3.0.2 in c:\\users\\fuxia\\anaconda3\\lib\\site-packages (from requests->pgeocode) (3.0.4)\n",
      "Requirement already satisfied: six>=1.5 in c:\\users\\fuxia\\anaconda3\\lib\\site-packages (from python-dateutil>=2.6.1->pandas->pgeocode) (1.15.0)\n"
     ]
    },
    {
     "data": {
      "text/plain": [
       "postal_code                28027\n",
       "country_code                  US\n",
       "place_name               Concord\n",
       "state_name        North Carolina\n",
       "state_code                    NC\n",
       "county_name             Cabarrus\n",
       "county_code                   25\n",
       "community_name               NaN\n",
       "community_code               NaN\n",
       "latitude                 35.4141\n",
       "longitude               -80.6162\n",
       "accuracy                       4\n",
       "Name: 0, dtype: object"
      ]
     },
     "execution_count": 300,
     "metadata": {},
     "output_type": "execute_result"
    }
   ],
   "source": [
    "# Get latitude and longitude data for each zipcode in the dataframe.\n",
    "# Install library pgeocode\n",
    "! pip install pgeocode\n",
    "import pgeocode\n",
    "nomi = pgeocode.Nominatim('us')\n",
    "nomi.query_postal_code(\"28027\")\n"
   ]
  },
  {
   "cell_type": "code",
   "execution_count": 301,
   "metadata": {},
   "outputs": [
    {
     "name": "stdout",
     "output_type": "stream",
     "text": [
      "[35.4141, 35.3716, 35.4848, 35.50199999999999, 35.4146, 35.2477, 35.3247, 35.4011, 35.2886, 35.5498, 35.4858, 35.2704, 35.244, 35.5494, 35.3183, 35.2836, 35.1936]\n",
      "[-80.6162, -80.53, -80.6015, -80.6359, -80.4171, -80.5319, -80.6594, -80.8695, -80.8209, -80.3346, -80.794, -80.4211, -80.7387, -80.4226, -80.7476, -80.7638, -80.6846]\n",
      "['Concord', 'Concord', 'Kannapolis', 'Kannapolis', 'Mount Pleasant', 'Midland', 'Harrisburg', 'Huntersville', 'Charlotte', 'Gold Hill', 'Davidson', 'Locust', 'Charlotte', 'Rockwell', 'Charlotte', 'Charlotte', 'Charlotte']\n"
     ]
    }
   ],
   "source": [
    "# Loop through the ZIPCODE column of dataframe zipcode to create 3 data series, namely lat, long, and city to \n",
    "# contain the latitudes, longitudes, and place_name (i.e., city).\n",
    "lat = []\n",
    "long = []\n",
    "city = []\n",
    "for code in zipcode['ZIPCODE']:\n",
    "    geo = nomi.query_postal_code(code)\n",
    "    latitude = geo.latitude\n",
    "    longitude = geo.longitude\n",
    "    place_name = geo.place_name\n",
    "    lat.append(latitude)\n",
    "    long.append(longitude)\n",
    "    city.append(place_name)\n",
    "print(lat)\n",
    "print(long)\n",
    "print(city)"
   ]
  },
  {
   "cell_type": "code",
   "execution_count": 302,
   "metadata": {},
   "outputs": [
    {
     "name": "stdout",
     "output_type": "stream",
     "text": [
      "ZIPCODE        int64\n",
      "Latitude     float64\n",
      "Longitude    float64\n",
      "City          object\n",
      "dtype: object\n"
     ]
    },
    {
     "data": {
      "text/html": [
       "<div>\n",
       "<style scoped>\n",
       "    .dataframe tbody tr th:only-of-type {\n",
       "        vertical-align: middle;\n",
       "    }\n",
       "\n",
       "    .dataframe tbody tr th {\n",
       "        vertical-align: top;\n",
       "    }\n",
       "\n",
       "    .dataframe thead th {\n",
       "        text-align: right;\n",
       "    }\n",
       "</style>\n",
       "<table border=\"1\" class=\"dataframe\">\n",
       "  <thead>\n",
       "    <tr style=\"text-align: right;\">\n",
       "      <th></th>\n",
       "      <th>ZIPCODE</th>\n",
       "      <th>Latitude</th>\n",
       "      <th>Longitude</th>\n",
       "      <th>City</th>\n",
       "    </tr>\n",
       "  </thead>\n",
       "  <tbody>\n",
       "    <tr>\n",
       "      <th>0</th>\n",
       "      <td>28027</td>\n",
       "      <td>35.4141</td>\n",
       "      <td>-80.6162</td>\n",
       "      <td>Concord</td>\n",
       "    </tr>\n",
       "    <tr>\n",
       "      <th>1</th>\n",
       "      <td>28025</td>\n",
       "      <td>35.3716</td>\n",
       "      <td>-80.5300</td>\n",
       "      <td>Concord</td>\n",
       "    </tr>\n",
       "    <tr>\n",
       "      <th>2</th>\n",
       "      <td>28083</td>\n",
       "      <td>35.4848</td>\n",
       "      <td>-80.6015</td>\n",
       "      <td>Kannapolis</td>\n",
       "    </tr>\n",
       "    <tr>\n",
       "      <th>3</th>\n",
       "      <td>28081</td>\n",
       "      <td>35.5020</td>\n",
       "      <td>-80.6359</td>\n",
       "      <td>Kannapolis</td>\n",
       "    </tr>\n",
       "    <tr>\n",
       "      <th>4</th>\n",
       "      <td>28124</td>\n",
       "      <td>35.4146</td>\n",
       "      <td>-80.4171</td>\n",
       "      <td>Mount Pleasant</td>\n",
       "    </tr>\n",
       "    <tr>\n",
       "      <th>5</th>\n",
       "      <td>28107</td>\n",
       "      <td>35.2477</td>\n",
       "      <td>-80.5319</td>\n",
       "      <td>Midland</td>\n",
       "    </tr>\n",
       "    <tr>\n",
       "      <th>6</th>\n",
       "      <td>28075</td>\n",
       "      <td>35.3247</td>\n",
       "      <td>-80.6594</td>\n",
       "      <td>Harrisburg</td>\n",
       "    </tr>\n",
       "    <tr>\n",
       "      <th>7</th>\n",
       "      <td>28078</td>\n",
       "      <td>35.4011</td>\n",
       "      <td>-80.8695</td>\n",
       "      <td>Huntersville</td>\n",
       "    </tr>\n",
       "    <tr>\n",
       "      <th>8</th>\n",
       "      <td>28269</td>\n",
       "      <td>35.2886</td>\n",
       "      <td>-80.8209</td>\n",
       "      <td>Charlotte</td>\n",
       "    </tr>\n",
       "    <tr>\n",
       "      <th>9</th>\n",
       "      <td>28071</td>\n",
       "      <td>35.5498</td>\n",
       "      <td>-80.3346</td>\n",
       "      <td>Gold Hill</td>\n",
       "    </tr>\n",
       "    <tr>\n",
       "      <th>10</th>\n",
       "      <td>28036</td>\n",
       "      <td>35.4858</td>\n",
       "      <td>-80.7940</td>\n",
       "      <td>Davidson</td>\n",
       "    </tr>\n",
       "    <tr>\n",
       "      <th>11</th>\n",
       "      <td>28097</td>\n",
       "      <td>35.2704</td>\n",
       "      <td>-80.4211</td>\n",
       "      <td>Locust</td>\n",
       "    </tr>\n",
       "    <tr>\n",
       "      <th>12</th>\n",
       "      <td>28215</td>\n",
       "      <td>35.2440</td>\n",
       "      <td>-80.7387</td>\n",
       "      <td>Charlotte</td>\n",
       "    </tr>\n",
       "    <tr>\n",
       "      <th>13</th>\n",
       "      <td>28138</td>\n",
       "      <td>35.5494</td>\n",
       "      <td>-80.4226</td>\n",
       "      <td>Rockwell</td>\n",
       "    </tr>\n",
       "    <tr>\n",
       "      <th>14</th>\n",
       "      <td>28262</td>\n",
       "      <td>35.3183</td>\n",
       "      <td>-80.7476</td>\n",
       "      <td>Charlotte</td>\n",
       "    </tr>\n",
       "    <tr>\n",
       "      <th>15</th>\n",
       "      <td>28213</td>\n",
       "      <td>35.2836</td>\n",
       "      <td>-80.7638</td>\n",
       "      <td>Charlotte</td>\n",
       "    </tr>\n",
       "    <tr>\n",
       "      <th>16</th>\n",
       "      <td>28227</td>\n",
       "      <td>35.1936</td>\n",
       "      <td>-80.6846</td>\n",
       "      <td>Charlotte</td>\n",
       "    </tr>\n",
       "  </tbody>\n",
       "</table>\n",
       "</div>"
      ],
      "text/plain": [
       "    ZIPCODE  Latitude  Longitude            City\n",
       "0     28027   35.4141   -80.6162         Concord\n",
       "1     28025   35.3716   -80.5300         Concord\n",
       "2     28083   35.4848   -80.6015      Kannapolis\n",
       "3     28081   35.5020   -80.6359      Kannapolis\n",
       "4     28124   35.4146   -80.4171  Mount Pleasant\n",
       "5     28107   35.2477   -80.5319         Midland\n",
       "6     28075   35.3247   -80.6594      Harrisburg\n",
       "7     28078   35.4011   -80.8695    Huntersville\n",
       "8     28269   35.2886   -80.8209       Charlotte\n",
       "9     28071   35.5498   -80.3346       Gold Hill\n",
       "10    28036   35.4858   -80.7940        Davidson\n",
       "11    28097   35.2704   -80.4211          Locust\n",
       "12    28215   35.2440   -80.7387       Charlotte\n",
       "13    28138   35.5494   -80.4226        Rockwell\n",
       "14    28262   35.3183   -80.7476       Charlotte\n",
       "15    28213   35.2836   -80.7638       Charlotte\n",
       "16    28227   35.1936   -80.6846       Charlotte"
      ]
     },
     "execution_count": 302,
     "metadata": {},
     "output_type": "execute_result"
    }
   ],
   "source": [
    "# Populate 3 new columns: Latitude, Longitude, and City for the dataframe zipcode\n",
    "zipcode['Latitude'] = lat\n",
    "zipcode['Longitude'] = long\n",
    "zipcode['City'] = city\n",
    "print(zipcode.dtypes)\n",
    "cabarrus  = zipcode.copy()\n",
    "cabarrus"
   ]
  },
  {
   "cell_type": "code",
   "execution_count": 303,
   "metadata": {},
   "outputs": [
    {
     "name": "stdout",
     "output_type": "stream",
     "text": [
      "ZIPCODE       object\n",
      "Latitude     float64\n",
      "Longitude    float64\n",
      "City          object\n",
      "dtype: object\n",
      "<class 'pandas.core.frame.DataFrame'>\n"
     ]
    }
   ],
   "source": [
    "cabarrus = cabarrus.astype({\"ZIPCODE\": object})\n",
    "print(cabarrus.dtypes)\n",
    "print(type(cabarrus))"
   ]
  },
  {
   "cell_type": "code",
   "execution_count": 304,
   "metadata": {},
   "outputs": [
    {
     "name": "stdout",
     "output_type": "stream",
     "text": [
      "The geograpical coordinates of Cabarrus County North Carolina are 35.4045503, -80.564371.\n"
     ]
    }
   ],
   "source": [
    "# Use geopy library to get the latitude and longitude values of Cabarrus County, North Carolina.\n",
    "address = 'Cabarrus County, North Carolina'\n",
    "\n",
    "geolocator = Nominatim(user_agent=\"cabarrus_explorer\")\n",
    "location = geolocator.geocode(address)\n",
    "latitude = location.latitude\n",
    "longitude = location.longitude\n",
    "print('The geograpical coordinates of Cabarrus County North Carolina are {}, {}.'.format(latitude, longitude))"
   ]
  },
  {
   "cell_type": "code",
   "execution_count": 310,
   "metadata": {},
   "outputs": [
    {
     "data": {
      "text/html": [
       "<div style=\"width:100%;\"><div style=\"position:relative;width:100%;height:0;padding-bottom:60%;\"><span style=\"color:#565656\">Make this Notebook Trusted to load map: File -> Trust Notebook</span><iframe src=\"about:blank\" style=\"position:absolute;width:100%;height:100%;left:0;top:0;border:none !important;\" data-html=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 onload=\"this.contentDocument.open();this.contentDocument.write(atob(this.getAttribute('data-html')));this.contentDocument.close();\" allowfullscreen webkitallowfullscreen mozallowfullscreen></iframe></div></div>"
      ],
      "text/plain": [
       "<folium.folium.Map at 0x1dea35c53a0>"
      ]
     },
     "execution_count": 310,
     "metadata": {},
     "output_type": "execute_result"
    }
   ],
   "source": [
    "# Create a map of Cabarrus County North Carolina using latitude and longitude values.\n",
    "# Superimpose different zip code areas on the county map.\n",
    "map_cabarrus = folium.Map(location=[latitude,longitude], zoom_start=10)\n",
    "\n",
    "# Add markers of ZIPCODE and city name to map.\n",
    "for row in cabarrus.itertuples():\n",
    "    label = '{},{}'.format(row.ZIPCODE, row.City)\n",
    "    label = folium.Popup(label, parse_html=True)\n",
    "    lat = row.Latitude\n",
    "    lng = row.Longitude\n",
    "    folium.CircleMarker(\n",
    "        [lat, lng],\n",
    "        radius=5,\n",
    "        popup=label,\n",
    "        color='blue',\n",
    "        fill=True,\n",
    "        fill_color='#3186cc',\n",
    "        fill_opacity=0.7,\n",
    "        parse_html=False).add_to(map_cabarrus)  \n",
    "    \n",
    "map_cabarrus"
   ]
  },
  {
   "cell_type": "markdown",
   "metadata": {},
   "source": [
    "# Next, we are going to start utilizing the Foursquare API to explore the zip code areas and segment them."
   ]
  },
  {
   "cell_type": "code",
   "execution_count": 311,
   "metadata": {},
   "outputs": [
    {
     "data": {
      "image/png": "[encoded data removed]",
      "text/plain": [
       "<Figure size 432x288 with 1 Axes>"
      ]
     },
     "metadata": {
      "needs_background": "light"
     },
     "output_type": "display_data"
    }
   ],
   "source": [
    "{\n",
    "    \"tags\": [\n",
    "        \"hide-input\",\n",
    "    ]\n",
    "}\n",
    "import numpy as np\n",
    "import matplotlib.pyplot as plt\n",
    "plt.ion()\n",
    "\n",
    "data = np.random.randn(2, 100)\n",
    "fig, ax = plt.subplots()\n",
    "ax.scatter(*data, c=data[1], s=100*np.abs(data[0]));"
   ]
  },
  {
   "cell_type": "code",
   "execution_count": null,
   "metadata": {},
   "outputs": [],
   "source": []
  }
 ],
 "metadata": {
  "kernelspec": {
   "display_name": "Python 3",
   "language": "python",
   "name": "python3"
  },
  "language_info": {
   "codemirror_mode": {
    "name": "ipython",
    "version": 3
   },
   "file_extension": ".py",
   "mimetype": "text/x-python",
   "name": "python",
   "nbconvert_exporter": "python",
   "pygments_lexer": "ipython3",
   "version": "3.8.3"
  }
 },
 "nbformat": 4,
 "nbformat_minor": 4
}
